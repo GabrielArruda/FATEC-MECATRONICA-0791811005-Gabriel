{
  "nbformat": 4,
  "nbformat_minor": 0,
  "metadata": {
    "colab": {
      "name": "Aulas_Sistemas_de_Manufatura.ipynb",
      "provenance": [],
      "toc_visible": true,
      "authorship_tag": "ABX9TyO+D1vkVqG0bQ5yAU2J2W+L",
      "include_colab_link": true
    },
    "kernelspec": {
      "name": "python3",
      "display_name": "Python 3"
    }
  },
  "cells": [
    {
      "cell_type": "markdown",
      "metadata": {
        "id": "view-in-github",
        "colab_type": "text"
      },
      "source": [
        "<a href=\"https://colab.research.google.com/github/GabrielArruda/FATEC-MECATRONICA-0791811005-Gabriel/blob/master/Aulas_Sistemas_de_Manufatura.ipynb\" target=\"_parent\"><img src=\"https://colab.research.google.com/assets/colab-badge.svg\" alt=\"Open In Colab\"/></a>"
      ]
    },
    {
      "cell_type": "markdown",
      "metadata": {
        "id": "j-r5LioI9FcS",
        "colab_type": "text"
      },
      "source": [
        "#Aula Manufatura 06\n",
        "##AULA 18_09_2020"
      ]
    },
    {
      "cell_type": "code",
      "metadata": {
        "id": "Vs5DYuMo9Pab",
        "colab_type": "code",
        "colab": {}
      },
      "source": [
        ""
      ],
      "execution_count": null,
      "outputs": []
    }
  ]
}